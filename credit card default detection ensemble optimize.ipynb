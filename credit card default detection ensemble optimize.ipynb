{
 "cells": [
  {
   "cell_type": "markdown",
   "metadata": {
    "id": "9OBvBOCkPrga"
   },
   "source": [
    "# Credit Car Fraud Detection with Hyper-parameter Tuning"
   ]
  },
  {
   "cell_type": "markdown",
   "metadata": {
    "id": "bEmSTWZSPrgb"
   },
   "source": [
    "This project is the extension of the project \"Creditd Card Fraud Detection RF and KNN\". We will use hyperperformance tuning to optimize hyperparameters of the decision tree and ensemble classifiers."
   ]
  },
  {
   "cell_type": "markdown",
   "metadata": {
    "id": "9hjVbQlVPrgd"
   },
   "source": [
    "We will first use Classification Trees for predicting if a user has a default payment option active or not. Data source is [here](https://archive.ics.uci.edu/ml/datasets/default+of+credit+card+clients) or via this link: https://archive.ics.uci.edu/ml/datasets/default+of+credit+card+clients.\n",
    "\n",
    "This dataset is aimed at the case of customer default payments in Taiwan. From the perspective of risk management, the result of predictive accuracy of the estimated probability of default will be more valuable than the binary result of classification - credible or not credible clients. Because the real probability of default is unknown, this study presented the novel Sorting Smoothing Method to estimate the real probability of default."
   ]
  },
  {
   "cell_type": "code",
   "execution_count": 2,
   "metadata": {
    "colab": {
     "base_uri": "https://localhost:8080/"
    },
    "id": "_XFrMWrMvMu5",
    "outputId": "d2e14b61-15ad-4ec5-e41a-a5e1b28a142e"
   },
   "outputs": [
    {
     "name": "stdout",
     "output_type": "stream",
     "text": [
      "Collecting xlrd==1.2.0\n",
      "  Downloading xlrd-1.2.0-py2.py3-none-any.whl (103 kB)\n",
      "\u001b[K     |████████████████████████████████| 103 kB 7.7 MB/s eta 0:00:01\n",
      "\u001b[?25hInstalling collected packages: xlrd\n",
      "  Attempting uninstall: xlrd\n",
      "    Found existing installation: xlrd 1.1.0\n",
      "    Uninstalling xlrd-1.1.0:\n",
      "      Successfully uninstalled xlrd-1.1.0\n",
      "Successfully installed xlrd-1.2.0\n"
     ]
    }
   ],
   "source": [
    "## install specific version to read the excel file\n",
    "!pip install xlrd==1.2.0"
   ]
  },
  {
   "cell_type": "code",
   "execution_count": 3,
   "metadata": {
    "colab": {
     "base_uri": "https://localhost:8080/"
    },
    "id": "lf_Lqmru3EWP",
    "outputId": "35769417-98b0-46b7-a303-251cecc0db0b"
   },
   "outputs": [
    {
     "name": "stdout",
     "output_type": "stream",
     "text": [
      "Mounted at /content/drive\n"
     ]
    }
   ],
   "source": [
    "from google.colab import drive\n",
    "drive.mount('/content/drive')"
   ]
  },
  {
   "cell_type": "markdown",
   "metadata": {},
   "source": [
    "## Global functions"
   ]
  },
  {
   "cell_type": "code",
   "execution_count": 141,
   "metadata": {
    "id": "R376ZBnBPrge"
   },
   "outputs": [],
   "source": [
    "#required imports\n",
    "import numpy as np\n",
    "import pandas as pd\n",
    "import xlrd\n",
    "import matplotlib.pyplot as plt\n",
    "import seaborn as sns\n",
    "import joblib"
   ]
  },
  {
   "cell_type": "code",
   "execution_count": 43,
   "metadata": {},
   "outputs": [],
   "source": [
    "def check_balance(s, style=\"seaborn-pastel\"):\n",
    "  \"\"\" s: a series\"\"\"\n",
    "  s_size = s.value_counts()\n",
    "  print(s_size)\n",
    "  plt.figure(figsize=(6,4))\n",
    "  plt.pie(s_size,autopct = '%0.1f%%',explode=[0.05]*len(s_size), labels=s_size.index);\n",
    "  plt.legend(['No','Yes'], title='Default',loc='upper right');"
   ]
  },
  {
   "cell_type": "markdown",
   "metadata": {
    "id": "anE_q4uLU-zz"
   },
   "source": [
    "## Prepare data"
   ]
  },
  {
   "cell_type": "markdown",
   "metadata": {
    "id": "thG7JDyjVGd6"
   },
   "source": [
    "### Read in data"
   ]
  },
  {
   "cell_type": "markdown",
   "metadata": {
    "id": "ddF9R5pdPrgi"
   },
   "source": [
    "After installing the necessary libraries, proceed to download the data. Since reading the excel file won't create headers by default, we added two more operations to substitute the columns."
   ]
  },
  {
   "cell_type": "code",
   "execution_count": 44,
   "metadata": {
    "colab": {
     "base_uri": "https://localhost:8080/"
    },
    "id": "CtNCjjr7Prgj",
    "outputId": "aa719fa6-de27-4f96-de15-d08d0b0fac97"
   },
   "outputs": [
    {
     "data": {
      "text/plain": [
       "Index(['LIMIT_BAL', 'SEX', 'EDUCATION', 'MARRIAGE', 'AGE', 'PAY_0', 'PAY_2',\n",
       "       'PAY_3', 'PAY_4', 'PAY_5', 'PAY_6', 'BILL_AMT1', 'BILL_AMT2',\n",
       "       'BILL_AMT3', 'BILL_AMT4', 'BILL_AMT5', 'BILL_AMT6', 'PAY_AMT1',\n",
       "       'PAY_AMT2', 'PAY_AMT3', 'PAY_AMT4', 'PAY_AMT5', 'PAY_AMT6',\n",
       "       'default payment next month'],\n",
       "      dtype='object')"
      ]
     },
     "execution_count": 44,
     "metadata": {},
     "output_type": "execute_result"
    }
   ],
   "source": [
    "#loading the data\n",
    "dataset = pd.read_excel(\"https://archive.ics.uci.edu/ml/machine-learning-databases/00350/default%20of%20credit%20card%20clients.xls\",\n",
    "                        header=1,index_col='ID')\n",
    "dataset.columns"
   ]
  },
  {
   "cell_type": "markdown",
   "metadata": {
    "id": "cMh-sEIdPrgl"
   },
   "source": [
    "### Explore the data\n",
    "In the following, you can take a look into the dataset."
   ]
  },
  {
   "cell_type": "code",
   "execution_count": 126,
   "metadata": {
    "colab": {
     "base_uri": "https://localhost:8080/",
     "height": 520
    },
    "id": "E0lAPOXQPrgl",
    "outputId": "a21b344f-88ee-40b4-c0f8-a8de71a7eb59"
   },
   "outputs": [
    {
     "data": {
      "text/html": [
       "\n",
       "  <div id=\"df-4e527de4-0826-489a-a809-270880714ac6\">\n",
       "    <div class=\"colab-df-container\">\n",
       "      <div>\n",
       "<style scoped>\n",
       "    .dataframe tbody tr th:only-of-type {\n",
       "        vertical-align: middle;\n",
       "    }\n",
       "\n",
       "    .dataframe tbody tr th {\n",
       "        vertical-align: top;\n",
       "    }\n",
       "\n",
       "    .dataframe thead th {\n",
       "        text-align: right;\n",
       "    }\n",
       "</style>\n",
       "<table border=\"1\" class=\"dataframe\">\n",
       "  <thead>\n",
       "    <tr style=\"text-align: right;\">\n",
       "      <th></th>\n",
       "      <th>LIMIT_BAL</th>\n",
       "      <th>SEX</th>\n",
       "      <th>EDUCATION</th>\n",
       "      <th>MARRIAGE</th>\n",
       "      <th>AGE</th>\n",
       "      <th>PAY_0</th>\n",
       "      <th>PAY_2</th>\n",
       "      <th>PAY_3</th>\n",
       "      <th>PAY_4</th>\n",
       "      <th>PAY_5</th>\n",
       "      <th>...</th>\n",
       "      <th>BILL_AMT4</th>\n",
       "      <th>BILL_AMT5</th>\n",
       "      <th>BILL_AMT6</th>\n",
       "      <th>PAY_AMT1</th>\n",
       "      <th>PAY_AMT2</th>\n",
       "      <th>PAY_AMT3</th>\n",
       "      <th>PAY_AMT4</th>\n",
       "      <th>PAY_AMT5</th>\n",
       "      <th>PAY_AMT6</th>\n",
       "      <th>default payment next month</th>\n",
       "    </tr>\n",
       "    <tr>\n",
       "      <th>ID</th>\n",
       "      <th></th>\n",
       "      <th></th>\n",
       "      <th></th>\n",
       "      <th></th>\n",
       "      <th></th>\n",
       "      <th></th>\n",
       "      <th></th>\n",
       "      <th></th>\n",
       "      <th></th>\n",
       "      <th></th>\n",
       "      <th></th>\n",
       "      <th></th>\n",
       "      <th></th>\n",
       "      <th></th>\n",
       "      <th></th>\n",
       "      <th></th>\n",
       "      <th></th>\n",
       "      <th></th>\n",
       "      <th></th>\n",
       "      <th></th>\n",
       "      <th></th>\n",
       "    </tr>\n",
       "  </thead>\n",
       "  <tbody>\n",
       "    <tr>\n",
       "      <th>1</th>\n",
       "      <td>20000</td>\n",
       "      <td>2</td>\n",
       "      <td>2</td>\n",
       "      <td>1</td>\n",
       "      <td>24</td>\n",
       "      <td>2</td>\n",
       "      <td>2</td>\n",
       "      <td>-1</td>\n",
       "      <td>-1</td>\n",
       "      <td>-2</td>\n",
       "      <td>...</td>\n",
       "      <td>0</td>\n",
       "      <td>0</td>\n",
       "      <td>0</td>\n",
       "      <td>0</td>\n",
       "      <td>689</td>\n",
       "      <td>0</td>\n",
       "      <td>0</td>\n",
       "      <td>0</td>\n",
       "      <td>0</td>\n",
       "      <td>1</td>\n",
       "    </tr>\n",
       "    <tr>\n",
       "      <th>2</th>\n",
       "      <td>120000</td>\n",
       "      <td>2</td>\n",
       "      <td>2</td>\n",
       "      <td>2</td>\n",
       "      <td>26</td>\n",
       "      <td>-1</td>\n",
       "      <td>2</td>\n",
       "      <td>0</td>\n",
       "      <td>0</td>\n",
       "      <td>0</td>\n",
       "      <td>...</td>\n",
       "      <td>3272</td>\n",
       "      <td>3455</td>\n",
       "      <td>3261</td>\n",
       "      <td>0</td>\n",
       "      <td>1000</td>\n",
       "      <td>1000</td>\n",
       "      <td>1000</td>\n",
       "      <td>0</td>\n",
       "      <td>2000</td>\n",
       "      <td>1</td>\n",
       "    </tr>\n",
       "    <tr>\n",
       "      <th>3</th>\n",
       "      <td>90000</td>\n",
       "      <td>2</td>\n",
       "      <td>2</td>\n",
       "      <td>2</td>\n",
       "      <td>34</td>\n",
       "      <td>0</td>\n",
       "      <td>0</td>\n",
       "      <td>0</td>\n",
       "      <td>0</td>\n",
       "      <td>0</td>\n",
       "      <td>...</td>\n",
       "      <td>14331</td>\n",
       "      <td>14948</td>\n",
       "      <td>15549</td>\n",
       "      <td>1518</td>\n",
       "      <td>1500</td>\n",
       "      <td>1000</td>\n",
       "      <td>1000</td>\n",
       "      <td>1000</td>\n",
       "      <td>5000</td>\n",
       "      <td>0</td>\n",
       "    </tr>\n",
       "    <tr>\n",
       "      <th>4</th>\n",
       "      <td>50000</td>\n",
       "      <td>2</td>\n",
       "      <td>2</td>\n",
       "      <td>1</td>\n",
       "      <td>37</td>\n",
       "      <td>0</td>\n",
       "      <td>0</td>\n",
       "      <td>0</td>\n",
       "      <td>0</td>\n",
       "      <td>0</td>\n",
       "      <td>...</td>\n",
       "      <td>28314</td>\n",
       "      <td>28959</td>\n",
       "      <td>29547</td>\n",
       "      <td>2000</td>\n",
       "      <td>2019</td>\n",
       "      <td>1200</td>\n",
       "      <td>1100</td>\n",
       "      <td>1069</td>\n",
       "      <td>1000</td>\n",
       "      <td>0</td>\n",
       "    </tr>\n",
       "    <tr>\n",
       "      <th>5</th>\n",
       "      <td>50000</td>\n",
       "      <td>1</td>\n",
       "      <td>2</td>\n",
       "      <td>1</td>\n",
       "      <td>57</td>\n",
       "      <td>-1</td>\n",
       "      <td>0</td>\n",
       "      <td>-1</td>\n",
       "      <td>0</td>\n",
       "      <td>0</td>\n",
       "      <td>...</td>\n",
       "      <td>20940</td>\n",
       "      <td>19146</td>\n",
       "      <td>19131</td>\n",
       "      <td>2000</td>\n",
       "      <td>36681</td>\n",
       "      <td>10000</td>\n",
       "      <td>9000</td>\n",
       "      <td>689</td>\n",
       "      <td>679</td>\n",
       "      <td>0</td>\n",
       "    </tr>\n",
       "    <tr>\n",
       "      <th>6</th>\n",
       "      <td>50000</td>\n",
       "      <td>1</td>\n",
       "      <td>1</td>\n",
       "      <td>2</td>\n",
       "      <td>37</td>\n",
       "      <td>0</td>\n",
       "      <td>0</td>\n",
       "      <td>0</td>\n",
       "      <td>0</td>\n",
       "      <td>0</td>\n",
       "      <td>...</td>\n",
       "      <td>19394</td>\n",
       "      <td>19619</td>\n",
       "      <td>20024</td>\n",
       "      <td>2500</td>\n",
       "      <td>1815</td>\n",
       "      <td>657</td>\n",
       "      <td>1000</td>\n",
       "      <td>1000</td>\n",
       "      <td>800</td>\n",
       "      <td>0</td>\n",
       "    </tr>\n",
       "    <tr>\n",
       "      <th>7</th>\n",
       "      <td>500000</td>\n",
       "      <td>1</td>\n",
       "      <td>1</td>\n",
       "      <td>2</td>\n",
       "      <td>29</td>\n",
       "      <td>0</td>\n",
       "      <td>0</td>\n",
       "      <td>0</td>\n",
       "      <td>0</td>\n",
       "      <td>0</td>\n",
       "      <td>...</td>\n",
       "      <td>542653</td>\n",
       "      <td>483003</td>\n",
       "      <td>473944</td>\n",
       "      <td>55000</td>\n",
       "      <td>40000</td>\n",
       "      <td>38000</td>\n",
       "      <td>20239</td>\n",
       "      <td>13750</td>\n",
       "      <td>13770</td>\n",
       "      <td>0</td>\n",
       "    </tr>\n",
       "    <tr>\n",
       "      <th>8</th>\n",
       "      <td>100000</td>\n",
       "      <td>2</td>\n",
       "      <td>2</td>\n",
       "      <td>2</td>\n",
       "      <td>23</td>\n",
       "      <td>0</td>\n",
       "      <td>-1</td>\n",
       "      <td>-1</td>\n",
       "      <td>0</td>\n",
       "      <td>0</td>\n",
       "      <td>...</td>\n",
       "      <td>221</td>\n",
       "      <td>-159</td>\n",
       "      <td>567</td>\n",
       "      <td>380</td>\n",
       "      <td>601</td>\n",
       "      <td>0</td>\n",
       "      <td>581</td>\n",
       "      <td>1687</td>\n",
       "      <td>1542</td>\n",
       "      <td>0</td>\n",
       "    </tr>\n",
       "    <tr>\n",
       "      <th>9</th>\n",
       "      <td>140000</td>\n",
       "      <td>2</td>\n",
       "      <td>3</td>\n",
       "      <td>1</td>\n",
       "      <td>28</td>\n",
       "      <td>0</td>\n",
       "      <td>0</td>\n",
       "      <td>2</td>\n",
       "      <td>0</td>\n",
       "      <td>0</td>\n",
       "      <td>...</td>\n",
       "      <td>12211</td>\n",
       "      <td>11793</td>\n",
       "      <td>3719</td>\n",
       "      <td>3329</td>\n",
       "      <td>0</td>\n",
       "      <td>432</td>\n",
       "      <td>1000</td>\n",
       "      <td>1000</td>\n",
       "      <td>1000</td>\n",
       "      <td>0</td>\n",
       "    </tr>\n",
       "    <tr>\n",
       "      <th>10</th>\n",
       "      <td>20000</td>\n",
       "      <td>1</td>\n",
       "      <td>3</td>\n",
       "      <td>2</td>\n",
       "      <td>35</td>\n",
       "      <td>-2</td>\n",
       "      <td>-2</td>\n",
       "      <td>-2</td>\n",
       "      <td>-2</td>\n",
       "      <td>-1</td>\n",
       "      <td>...</td>\n",
       "      <td>0</td>\n",
       "      <td>13007</td>\n",
       "      <td>13912</td>\n",
       "      <td>0</td>\n",
       "      <td>0</td>\n",
       "      <td>0</td>\n",
       "      <td>13007</td>\n",
       "      <td>1122</td>\n",
       "      <td>0</td>\n",
       "      <td>0</td>\n",
       "    </tr>\n",
       "  </tbody>\n",
       "</table>\n",
       "<p>10 rows × 24 columns</p>\n",
       "</div>\n",
       "      <button class=\"colab-df-convert\" onclick=\"convertToInteractive('df-4e527de4-0826-489a-a809-270880714ac6')\"\n",
       "              title=\"Convert this dataframe to an interactive table.\"\n",
       "              style=\"display:none;\">\n",
       "        \n",
       "  <svg xmlns=\"http://www.w3.org/2000/svg\" height=\"24px\"viewBox=\"0 0 24 24\"\n",
       "       width=\"24px\">\n",
       "    <path d=\"M0 0h24v24H0V0z\" fill=\"none\"/>\n",
       "    <path d=\"M18.56 5.44l.94 2.06.94-2.06 2.06-.94-2.06-.94-.94-2.06-.94 2.06-2.06.94zm-11 1L8.5 8.5l.94-2.06 2.06-.94-2.06-.94L8.5 2.5l-.94 2.06-2.06.94zm10 10l.94 2.06.94-2.06 2.06-.94-2.06-.94-.94-2.06-.94 2.06-2.06.94z\"/><path d=\"M17.41 7.96l-1.37-1.37c-.4-.4-.92-.59-1.43-.59-.52 0-1.04.2-1.43.59L10.3 9.45l-7.72 7.72c-.78.78-.78 2.05 0 2.83L4 21.41c.39.39.9.59 1.41.59.51 0 1.02-.2 1.41-.59l7.78-7.78 2.81-2.81c.8-.78.8-2.07 0-2.86zM5.41 20L4 18.59l7.72-7.72 1.47 1.35L5.41 20z\"/>\n",
       "  </svg>\n",
       "      </button>\n",
       "      \n",
       "  <style>\n",
       "    .colab-df-container {\n",
       "      display:flex;\n",
       "      flex-wrap:wrap;\n",
       "      gap: 12px;\n",
       "    }\n",
       "\n",
       "    .colab-df-convert {\n",
       "      background-color: #E8F0FE;\n",
       "      border: none;\n",
       "      border-radius: 50%;\n",
       "      cursor: pointer;\n",
       "      display: none;\n",
       "      fill: #1967D2;\n",
       "      height: 32px;\n",
       "      padding: 0 0 0 0;\n",
       "      width: 32px;\n",
       "    }\n",
       "\n",
       "    .colab-df-convert:hover {\n",
       "      background-color: #E2EBFA;\n",
       "      box-shadow: 0px 1px 2px rgba(60, 64, 67, 0.3), 0px 1px 3px 1px rgba(60, 64, 67, 0.15);\n",
       "      fill: #174EA6;\n",
       "    }\n",
       "\n",
       "    [theme=dark] .colab-df-convert {\n",
       "      background-color: #3B4455;\n",
       "      fill: #D2E3FC;\n",
       "    }\n",
       "\n",
       "    [theme=dark] .colab-df-convert:hover {\n",
       "      background-color: #434B5C;\n",
       "      box-shadow: 0px 1px 3px 1px rgba(0, 0, 0, 0.15);\n",
       "      filter: drop-shadow(0px 1px 2px rgba(0, 0, 0, 0.3));\n",
       "      fill: #FFFFFF;\n",
       "    }\n",
       "  </style>\n",
       "\n",
       "      <script>\n",
       "        const buttonEl =\n",
       "          document.querySelector('#df-4e527de4-0826-489a-a809-270880714ac6 button.colab-df-convert');\n",
       "        buttonEl.style.display =\n",
       "          google.colab.kernel.accessAllowed ? 'block' : 'none';\n",
       "\n",
       "        async function convertToInteractive(key) {\n",
       "          const element = document.querySelector('#df-4e527de4-0826-489a-a809-270880714ac6');\n",
       "          const dataTable =\n",
       "            await google.colab.kernel.invokeFunction('convertToInteractive',\n",
       "                                                     [key], {});\n",
       "          if (!dataTable) return;\n",
       "\n",
       "          const docLinkHtml = 'Like what you see? Visit the ' +\n",
       "            '<a target=\"_blank\" href=https://colab.research.google.com/notebooks/data_table.ipynb>data table notebook</a>'\n",
       "            + ' to learn more about interactive tables.';\n",
       "          element.innerHTML = '';\n",
       "          dataTable['output_type'] = 'display_data';\n",
       "          await google.colab.output.renderOutput(dataTable, element);\n",
       "          const docLink = document.createElement('div');\n",
       "          docLink.innerHTML = docLinkHtml;\n",
       "          element.appendChild(docLink);\n",
       "        }\n",
       "      </script>\n",
       "    </div>\n",
       "  </div>\n",
       "  "
      ],
      "text/plain": [
       "    LIMIT_BAL  SEX  EDUCATION  MARRIAGE  AGE  PAY_0  PAY_2  PAY_3  PAY_4  \\\n",
       "ID                                                                         \n",
       "1       20000    2          2         1   24      2      2     -1     -1   \n",
       "2      120000    2          2         2   26     -1      2      0      0   \n",
       "3       90000    2          2         2   34      0      0      0      0   \n",
       "4       50000    2          2         1   37      0      0      0      0   \n",
       "5       50000    1          2         1   57     -1      0     -1      0   \n",
       "6       50000    1          1         2   37      0      0      0      0   \n",
       "7      500000    1          1         2   29      0      0      0      0   \n",
       "8      100000    2          2         2   23      0     -1     -1      0   \n",
       "9      140000    2          3         1   28      0      0      2      0   \n",
       "10      20000    1          3         2   35     -2     -2     -2     -2   \n",
       "\n",
       "    PAY_5  ...  BILL_AMT4  BILL_AMT5  BILL_AMT6  PAY_AMT1  PAY_AMT2  PAY_AMT3  \\\n",
       "ID         ...                                                                  \n",
       "1      -2  ...          0          0          0         0       689         0   \n",
       "2       0  ...       3272       3455       3261         0      1000      1000   \n",
       "3       0  ...      14331      14948      15549      1518      1500      1000   \n",
       "4       0  ...      28314      28959      29547      2000      2019      1200   \n",
       "5       0  ...      20940      19146      19131      2000     36681     10000   \n",
       "6       0  ...      19394      19619      20024      2500      1815       657   \n",
       "7       0  ...     542653     483003     473944     55000     40000     38000   \n",
       "8       0  ...        221       -159        567       380       601         0   \n",
       "9       0  ...      12211      11793       3719      3329         0       432   \n",
       "10     -1  ...          0      13007      13912         0         0         0   \n",
       "\n",
       "    PAY_AMT4  PAY_AMT5  PAY_AMT6  default payment next month  \n",
       "ID                                                            \n",
       "1          0         0         0                           1  \n",
       "2       1000         0      2000                           1  \n",
       "3       1000      1000      5000                           0  \n",
       "4       1100      1069      1000                           0  \n",
       "5       9000       689       679                           0  \n",
       "6       1000      1000       800                           0  \n",
       "7      20239     13750     13770                           0  \n",
       "8        581      1687      1542                           0  \n",
       "9       1000      1000      1000                           0  \n",
       "10     13007      1122         0                           0  \n",
       "\n",
       "[10 rows x 24 columns]"
      ]
     },
     "execution_count": 126,
     "metadata": {},
     "output_type": "execute_result"
    }
   ],
   "source": [
    "dataset.head(10)"
   ]
  },
  {
   "cell_type": "code",
   "execution_count": null,
   "metadata": {
    "colab": {
     "base_uri": "https://localhost:8080/",
     "height": 300
    },
    "id": "CT7dKTMhWTPA",
    "outputId": "20ecc4d0-12df-4140-83c8-dadab294dbfb"
   },
   "outputs": [
    {
     "name": "stdout",
     "output_type": "stream",
     "text": [
      "0    23364\n",
      "1     6636\n",
      "Name: default payment next month, dtype: int64\n"
     ]
    },
    {
     "data": {
      "image/png": "[encoded data removed]",
      "text/plain": [
       "<Figure size 432x288 with 1 Axes>"
      ]
     },
     "metadata": {},
     "output_type": "display_data"
    }
   ],
   "source": [
    "# check data balance\n",
    "check_balance(dataset['default payment next month'])"
   ]
  },
  {
   "cell_type": "code",
   "execution_count": null,
   "metadata": {
    "colab": {
     "base_uri": "https://localhost:8080/"
    },
    "id": "nCb5WUkXCgxY",
    "outputId": "aee7f414-c6e0-4dfb-fcce-18641f37c680"
   },
   "outputs": [
    {
     "name": "stdout",
     "output_type": "stream",
     "text": [
      "Percentage of label 0: 77.9%\n",
      "Percentage of label 1: 22.1%\n"
     ]
    }
   ],
   "source": [
    "print(f'Percentage of label 0: {round(sum(y==0)/len(y)*100,1)}%')\n",
    "print(f'Percentage of label 1: {round(sum(y==1)/len(y)*100,1)}%')"
   ]
  },
  {
   "cell_type": "markdown",
   "metadata": {
    "id": "4om6NiH0Czoy"
   },
   "source": [
    "Data is imbalanced, with 78% of the examples have label 0 and 22% label 1."
   ]
  },
  {
   "cell_type": "markdown",
   "metadata": {
    "id": "f_zraLy4gCel"
   },
   "source": [
    "Missing values"
   ]
  },
  {
   "cell_type": "code",
   "execution_count": null,
   "metadata": {
    "colab": {
     "base_uri": "https://localhost:8080/"
    },
    "id": "5NCOMnQFgB0z",
    "outputId": "5dee2a28-95e8-4857-b806-02ed2888b7dc"
   },
   "outputs": [
    {
     "data": {
      "text/plain": [
       "LIMIT_BAL                     0.0\n",
       "SEX                           0.0\n",
       "EDUCATION                     0.0\n",
       "MARRIAGE                      0.0\n",
       "AGE                           0.0\n",
       "PAY_0                         0.0\n",
       "PAY_2                         0.0\n",
       "PAY_3                         0.0\n",
       "PAY_4                         0.0\n",
       "PAY_5                         0.0\n",
       "PAY_6                         0.0\n",
       "BILL_AMT1                     0.0\n",
       "BILL_AMT2                     0.0\n",
       "BILL_AMT3                     0.0\n",
       "BILL_AMT4                     0.0\n",
       "BILL_AMT5                     0.0\n",
       "BILL_AMT6                     0.0\n",
       "PAY_AMT1                      0.0\n",
       "PAY_AMT2                      0.0\n",
       "PAY_AMT3                      0.0\n",
       "PAY_AMT4                      0.0\n",
       "PAY_AMT5                      0.0\n",
       "PAY_AMT6                      0.0\n",
       "default payment next month    0.0\n",
       "dtype: float64"
      ]
     },
     "execution_count": 87,
     "metadata": {},
     "output_type": "execute_result"
    }
   ],
   "source": [
    "dataset[dataset.isna()].sum()"
   ]
  },
  {
   "cell_type": "markdown",
   "metadata": {
    "id": "1vRvbQtrgnlw"
   },
   "source": [
    "There are no no missing values. Will deal with it later if furture dataset have missing values."
   ]
  },
  {
   "cell_type": "code",
   "execution_count": 143,
   "metadata": {
    "id": "XTytxeP6Xuvk"
   },
   "outputs": [],
   "source": [
    "target = 'default payment next month'\n",
    "predictor_vars = [col for col in dataset.columns if col not in [target]]\n",
    "cat_vars = ['SEX','EDUCATION','MARRIAGE','PAY_0','PAY_2', 'PAY_3', 'PAY_4', 'PAY_5', 'PAY_6']\n",
    "numeric_vars = [col for col in predictor_vars if col not in cat_vars]"
   ]
  },
  {
   "cell_type": "code",
   "execution_count": 176,
   "metadata": {
    "colab": {
     "base_uri": "https://localhost:8080/",
     "height": 657
    },
    "id": "0scX66MBVpPv",
    "outputId": "edea3498-27aa-4eef-cee4-7e2c1aa0f813"
   },
   "outputs": [
    {
     "data": {
      "image/png": "[encoded data removed]",
      "text/plain": [
       "<Figure size 864x648 with 9 Axes>"
      ]
     },
     "metadata": {
      "needs_background": "light"
     },
     "output_type": "display_data"
    }
   ],
   "source": [
    "# Histogram of discrete variables\n",
    "def draw_hists(df, features, n_rows=4, n_cols=2):\n",
    "  fig=plt.figure(figsize=(4*n_cols,3*n_rows))\n",
    "  for i, feature in enumerate(features):\n",
    "      ax=fig.add_subplot(n_rows,n_cols,i+1)\n",
    "      df[feature].hist(bins=10,ax=ax)\n",
    "      ax.set_title(feature+\" Distribution\")\n",
    "  fig.tight_layout()  # Improves appearance a bit.\n",
    "\n",
    "draw_hists(dataset,cat_vars, n_rows=3, n_cols=3)"
   ]
  },
  {
   "cell_type": "markdown",
   "metadata": {
    "id": "umb4E38wRJzv"
   },
   "source": [
    "### Build Data processing pipeline"
   ]
  },
  {
   "cell_type": "code",
   "execution_count": 144,
   "metadata": {
    "id": "572ZEGDRcfUG"
   },
   "outputs": [],
   "source": [
    "from sklearn.preprocessing import OneHotEncoder \n",
    "from sklearn.preprocessing import RobustScaler\n",
    "from sklearn.preprocessing import FunctionTransformer\n",
    "from sklearn.impute import SimpleImputer\n",
    "from sklearn.compose import ColumnTransformer\n",
    "from sklearn.pipeline import Pipeline\n",
    "from sklearn.model_selection import train_test_split"
   ]
  },
  {
   "cell_type": "code",
   "execution_count": 145,
   "metadata": {
    "id": "5KRRkTGmbhyt"
   },
   "outputs": [],
   "source": [
    "cat_pipe = Pipeline([('ohe',OneHotEncoder(sparse=False,handle_unknown='ignore')) ])\n",
    "num_pipe = Pipeline([('scale',RobustScaler())])\n",
    "\n",
    "pipeline_data = ColumnTransformer([('cat_tsfm',cat_pipe,cat_vars),\n",
    "                                   ('num_tsfm',num_pipe,numeric_vars)\n",
    "                                   ])"
   ]
  },
  {
   "cell_type": "markdown",
   "metadata": {
    "id": "_NvWj0JF3QSw"
   },
   "source": [
    "### Process data"
   ]
  },
  {
   "cell_type": "code",
   "execution_count": 146,
   "metadata": {
    "id": "OZB2rw0rwW2J"
   },
   "outputs": [],
   "source": [
    "X = dataset.iloc[:,0:-1].copy()\n",
    "y = dataset.iloc[:,-1].copy()"
   ]
  },
  {
   "cell_type": "code",
   "execution_count": 147,
   "metadata": {
    "colab": {
     "base_uri": "https://localhost:8080/"
    },
    "id": "yRQFBVKx8kqC",
    "outputId": "3fcbafb4-30ef-461a-9ec3-db261a6ea612"
   },
   "outputs": [
    {
     "data": {
      "text/plain": [
       "((22500, 23), (7500, 23))"
      ]
     },
     "execution_count": 147,
     "metadata": {},
     "output_type": "execute_result"
    }
   ],
   "source": [
    "X_train, X_test, y_train,y_test = train_test_split(X,y,random_state=10086)\n",
    "X_train.shape, X_test.shape"
   ]
  },
  {
   "cell_type": "code",
   "execution_count": 148,
   "metadata": {
    "colab": {
     "base_uri": "https://localhost:8080/"
    },
    "id": "AsCxMJ-T3a2O",
    "outputId": "48944366-7fe3-44a6-baac-b3def223443f"
   },
   "outputs": [
    {
     "name": "stdout",
     "output_type": "stream",
     "text": [
      "X_train_transformed.shape: (22500, 91)\n",
      "X_test_transformed.shape: (7500, 91)\n"
     ]
    }
   ],
   "source": [
    "pipeline_data.fit(X_train)\n",
    "X_train_transformed = pipeline_data.transform(X_train)\n",
    "X_test_transformed = pipeline_data.transform(X_test)\n",
    "print(f\"X_train_transformed.shape: {X_train_transformed.shape}\")\n",
    "print(f\"X_test_transformed.shape: {X_test_transformed.shape}\")"
   ]
  },
  {
   "cell_type": "markdown",
   "metadata": {
    "id": "r4jchSRoPrgr"
   },
   "source": [
    "## Decision tree\n",
    "### Decision tress with different hyperparameter valuse"
   ]
  },
  {
   "cell_type": "code",
   "execution_count": 40,
   "metadata": {
    "id": "1Qr1SPGlPrgr"
   },
   "outputs": [],
   "source": [
    "import numpy as np\n",
    "import pandas as pd\n",
    "from sklearn.model_selection import train_test_split\n",
    "from sklearn.tree import DecisionTreeClassifier\n",
    "from sklearn.model_selection import RandomizedSearchCV\n",
    "from scipy.stats import randint, loguniform\n",
    "\n",
    "from sklearn.metrics import f1_score, roc_auc_score\n",
    "from time import time"
   ]
  },
  {
   "cell_type": "code",
   "execution_count": 185,
   "metadata": {
    "id": "_3n0i_JE8q_y"
   },
   "outputs": [],
   "source": [
    "tree_clf_1 = DecisionTreeClassifier(max_depth=10, random_state=10086,                            \n",
    "                                  criterion='entropy').fit(X_train_transformed,y_train)                                \n",
    "y_pred_1 = tree_clf_1.predict(X_test_transformed)\n",
    "tree_clf_2 = DecisionTreeClassifier(max_depth=20, random_state=10086,                             \n",
    "                                  criterion='entropy').fit(X_train_transformed,y_train)\n",
    "y_pred_2 = tree_clf_2.predict(X_test_transformed)\n",
    "tree_clf_3 = DecisionTreeClassifier(max_depth=10, random_state=10086,                              \n",
    "                                  criterion='gini').fit(X_train_transformed,y_train)\n",
    "y_pred_3 = tree_clf_3.predict(X_test_transformed)\n",
    "tree_clf_4 = DecisionTreeClassifier(max_depth=20, random_state=10086,                              \n",
    "                                  criterion='gini').fit(X_train_transformed,y_train)\n",
    "y_pred_4 = tree_clf_4.predict(X_test_transformed)\n"
   ]
  },
  {
   "cell_type": "code",
   "execution_count": 186,
   "metadata": {
    "colab": {
     "base_uri": "https://localhost:8080/"
    },
    "id": "_EUuP5S4-GhA",
    "outputId": "0117b948-9523-4723-d6a8-c51dfd588571"
   },
   "outputs": [
    {
     "name": "stdout",
     "output_type": "stream",
     "text": [
      "Confusion matrix of tree_clf_1:\n",
      " [[5584  274]\n",
      " [1078  564]]\n",
      "Confusion matrix of tree_clf_2:\n",
      " [[5109  749]\n",
      " [ 983  659]]\n",
      "Confusion matrix of tree_clf_3:\n",
      " [[5482  376]\n",
      " [1008  634]]\n",
      "Confusion matrix of tree_clf_4:\n",
      " [[5079  779]\n",
      " [1003  639]]\n"
     ]
    }
   ],
   "source": [
    "from sklearn.metrics import confusion_matrix\n",
    "print(f'Confusion matrix of tree_clf_1:\\n {confusion_matrix(y_test, y_pred_1, labels=[0,1])}')\n",
    "print(f'Confusion matrix of tree_clf_2:\\n {confusion_matrix(y_test, y_pred_2, labels=[0,1])}')\n",
    "print(f'Confusion matrix of tree_clf_3:\\n {confusion_matrix(y_test, y_pred_3, labels=[0,1])}')\n",
    "print(f'Confusion matrix of tree_clf_4:\\n {confusion_matrix(y_test, y_pred_4, labels=[0,1])}')\n"
   ]
  },
  {
   "cell_type": "markdown",
   "metadata": {
    "id": "Uk_7MG_aDukF"
   },
   "source": [
    "When max_depth is kept constant, Using Gini as criterion appears to have comparable results.<br>\n",
    "When using the same criterion, increasing max_depth gives significantly lower true negatives (5584->5109, 5482->5079), but somewhat higher true positives (564->659, 634->639), and significantly increases false postives (models clf_1 vs. clf_2, clf_3 vs. clf_4). <br>\n",
    "Since the data is imbalanced, accuracy is not an appropriate metric to evaluate the performance. But we can use F1 score to compare these models. <br>\n",
    "F1 = 2 * (precision * recall) / (precision + recall)"
   ]
  },
  {
   "cell_type": "code",
   "execution_count": 187,
   "metadata": {
    "id": "8v1XgNSUB2Qw"
   },
   "outputs": [],
   "source": [
    "[tn1, fp1], [fn1, tp1] = confusion_matrix(y_test, y_pred_1)\n",
    "[tn2, fp2], [fn2, tp2] = confusion_matrix(y_test, y_pred_2)\n",
    "[tn3, fp3], [fn3, tp3] = confusion_matrix(y_test, y_pred_3)\n",
    "[tn4, fp4], [fn4, tp4] = confusion_matrix(y_test, y_pred_4)"
   ]
  },
  {
   "cell_type": "code",
   "execution_count": 188,
   "metadata": {
    "colab": {
     "base_uri": "https://localhost:8080/"
    },
    "id": "hBVPPXfFCSlt",
    "outputId": "77ca0242-db57-4871-f0fb-c216546bf190"
   },
   "outputs": [
    {
     "name": "stdout",
     "output_type": "stream",
     "text": [
      "tree_clf_1: precision = 0.67  recall = 0.34  F1 = 0.45 \n",
      "tree_clf_2: precision = 0.47  recall = 0.4  F1 = 0.43\n",
      "tree_clf_3: precision = 0.63  recall = 0.39  F1 = 0.48\n",
      "tree_clf_4: precision = 0.45  recall = 0.39  F1 = 0.42\n"
     ]
    }
   ],
   "source": [
    "prec1 = tp1/(tp1+fp1)\n",
    "rec1 = tp1/(tp1+fn1)\n",
    "F1_1 = 2*prec1*rec1/(prec1+rec1)\n",
    "prec2 = tp2/(tp2+fp2)\n",
    "rec2 = tp2/(tp2+fn2)\n",
    "F1_2 = 2*prec2*rec2/(prec2+rec2)\n",
    "prec3 = tp3/(tp3+fp3)\n",
    "rec3 = tp3/(tp3+fn3)\n",
    "F1_3 = 2*prec3*rec3/(prec3+rec3)\n",
    "prec4 = tp4/(tp4+fp4)\n",
    "rec4 = tp4/(tp4+fn4)\n",
    "F1_4 = 2*prec4*rec4/(prec4+rec4)\n",
    "\n",
    "print(f'tree_clf_1: precision = {round(prec1,2)}  recall = {round(rec1,2)}  F1 = {round(F1_1,2)} ')\n",
    "print(f'tree_clf_2: precision = {round(prec2,2)}  recall = {round(rec2,2)}  F1 = {round(F1_2,2)}')\n",
    "print(f'tree_clf_3: precision = {round(prec3,2)}  recall = {round(rec3,2)}  F1 = {round(F1_3,2)}')\n",
    "print(f'tree_clf_4: precision = {round(prec4,2)}  recall = {round(rec4,2)}  F1 = {round(F1_4,2)}')"
   ]
  },
  {
   "cell_type": "code",
   "execution_count": 260,
   "metadata": {
    "colab": {
     "base_uri": "https://localhost:8080/"
    },
    "id": "r4b7jPML-jX0",
    "outputId": "2640f6dd-f192-4161-8885-bf3eb2039631"
   },
   "outputs": [
    {
     "name": "stdout",
     "output_type": "stream",
     "text": [
      "tree_clf_1 decision tree roc_auc score = 0.7316344721960121\n",
      "tree_clf_2 decision tree roc_auc score = 0.643413298656927\n",
      "tree_clf_3 decision tree roc_auc score = 0.7343593341231726\n",
      "tree_clf_4 decision tree roc_auc score = 0.6040501158352216\n"
     ]
    }
   ],
   "source": [
    "y_pred_1_prob = tree_clf_1.predict_proba(X_test_transformed)\n",
    "y_pred_2_prob = tree_clf_2.predict_proba(X_test_transformed)\n",
    "y_pred_3_prob = tree_clf_3.predict_proba(X_test_transformed)\n",
    "y_pred_4_prob = tree_clf_4.predict_proba(X_test_transformed)\n",
    "print(f'tree_clf_1 decision tree roc_auc score = {roc_auc_score(y_test, y_pred_1_prob[:,1])}')\n",
    "print(f'tree_clf_2 decision tree roc_auc score = {roc_auc_score(y_test, y_pred_2_prob[:,1])}')\n",
    "print(f'tree_clf_3 decision tree roc_auc score = {roc_auc_score(y_test, y_pred_3_prob[:,1])}')\n",
    "print(f'tree_clf_4 decision tree roc_auc score = {roc_auc_score(y_test, y_pred_4_prob[:,1])}')"
   ]
  },
  {
   "cell_type": "markdown",
   "metadata": {
    "id": "hoj7DgYxK_Ou"
   },
   "source": [
    "Criterion does not affect decision tree classification model performance in terms of F1 score.<br>\n",
    "\n",
    "However, max_depth does affect performance, with in this case, higher max_depth resulted in lower F1 score and roc_auc score. Increasing max_depth increased recall - the percent of true postives in all positive cases - by 3% but at the cost of decreasing precision by 16% - 19%. <br>"
   ]
  },
  {
   "cell_type": "markdown",
   "metadata": {
    "id": "QwcecRukPrgw"
   },
   "source": [
    "### Hyper-parameter tuning with RandomizedSearchCV"
   ]
  },
  {
   "cell_type": "code",
   "execution_count": 37,
   "metadata": {
    "id": "4XHRmsWOPrgx"
   },
   "outputs": [],
   "source": [
    "param_dt = {'max_depth':randint(5,30),\n",
    "              'max_features':randin(5,X.shape[1]+1),\n",
    "              'criterion':['gini','entropy'],\n",
    "              'min_samples_split':randint(5, 100)    \n",
    "}"
   ]
  },
  {
   "cell_type": "code",
   "execution_count": 38,
   "metadata": {
    "colab": {
     "base_uri": "https://localhost:8080/"
    },
    "id": "ygp36cRMIti-",
    "outputId": "f6292792-5eeb-43a3-8a2d-370fd2ce144e"
   },
   "outputs": [
    {
     "name": "stdout",
     "output_type": "stream",
     "text": [
      "Fitting 5 folds for each of 20 candidates, totalling 100 fits\n",
      "Time elapsed: 0.1558 minutes\n"
     ]
    }
   ],
   "source": [
    "time0=time()\n",
    "dt_rscv = RandomizedSearchCV(estimator=DecisionTreeClassifier(),\n",
    "                             param_distributions=param_dt,\n",
    "                             n_iter=20,\n",
    "                             scoring='roc_auc',\n",
    "                             cv=5,\n",
    "                             n_jobs=-1,\n",
    "                             verbose=1,\n",
    "                             random_state=10086)\n",
    "dt_rscv.fit(X_train_transformed, y_train)\n",
    "print(f'Time elapsed: {round((time()-time0)/60,4)} minutes')"
   ]
  },
  {
   "cell_type": "code",
   "execution_count": 39,
   "metadata": {
    "colab": {
     "base_uri": "https://localhost:8080/"
    },
    "id": "oN7tNGVwKY8S",
    "outputId": "6a0d34a2-a55b-4fba-9fe9-8b8b903b0767"
   },
   "outputs": [],
   "source": [
    "# Save the model\n",
    "# joblib.dump(dt_rscv,r'drive/My Drive/DS4-ML/Assignment 4 dt_rscv randomizedsearchcv decisiontree.joblib')\n",
    "# dt_rscv = joblib.load(r'drive/My Drive/DS4-ML/Assignment 4 dt_rscv randomizedsearchcv decisiontree.joblib')"
   ]
  },
  {
   "cell_type": "code",
   "execution_count": 40,
   "metadata": {
    "colab": {
     "base_uri": "https://localhost:8080/"
    },
    "id": "6ySM4B5qJseY",
    "outputId": "6db449e1-a798-4eae-a2a9-0f86cf951ac8"
   },
   "outputs": [
    {
     "data": {
      "text/plain": [
       "DecisionTreeClassifier(criterion='entropy', max_depth=10, max_features=20,\n",
       "                       min_samples_split=45)"
      ]
     },
     "execution_count": 40,
     "metadata": {},
     "output_type": "execute_result"
    }
   ],
   "source": [
    "dt_rscv.best_estimator_"
   ]
  },
  {
   "cell_type": "code",
   "execution_count": 42,
   "metadata": {
    "colab": {
     "base_uri": "https://localhost:8080/"
    },
    "id": "1XsaGR9gOAC3",
    "outputId": "e3810d6e-6d72-4c85-8012-56e2ce0e7861"
   },
   "outputs": [
    {
     "name": "stdout",
     "output_type": "stream",
     "text": [
      "dt_clf decision tree F1 score = 0.45319812792511693\n",
      "dt_clf decision tree roc_auc score = 0.7529305001145669\n"
     ]
    }
   ],
   "source": [
    "y_pred_dt = dt_rscv.best_estimator_.predict(X_test_transformed)\n",
    "y_pred_dt_prob = dt_rscv.best_estimator_.predict_proba(X_test_transformed)\n",
    "print(f'dt_clf decision tree F1 score = {f1_score(y_test, y_pred_dt)}')\n",
    "print(f'dt_clf decision tree roc_auc score = {roc_auc_score(y_test, y_pred_dt_prob[:,1])}')"
   ]
  },
  {
   "cell_type": "markdown",
   "metadata": {
    "id": "4b7_elA48__l"
   },
   "source": [
    "The f1 score is somehow lower than in the Q1 model tree_clf_3. Since the tuning is to maximize the roc_auc score, therefore hypertuning produced a slightly better roc_auc score (roc_auc = 0.75) than the best model in Q1 (roc_auc = 0.73)."
   ]
  },
  {
   "cell_type": "markdown",
   "metadata": {
    "id": "dEvsYwiXPrg3"
   },
   "source": [
    "## Ensemble classifiers\n",
    "In this section, we will build the same classifier by using following ensemble models.\n",
    "* Random Forest \n",
    "* AdaBoost\n",
    "* Extra Trees Classifier \n",
    "* Gradient Boosted Trees \n"
   ]
  },
  {
   "cell_type": "code",
   "execution_count": 151,
   "metadata": {
    "id": "J8S4UaKdPrg3"
   },
   "outputs": [],
   "source": [
    "from sklearn.ensemble import RandomForestClassifier, AdaBoostClassifier\n",
    "from sklearn.ensemble import GradientBoostingClassifier,ExtraTreesClassifier"
   ]
  },
  {
   "cell_type": "markdown",
   "metadata": {
    "id": "eK6nHRGH_h8h"
   },
   "source": [
    "For all the ensemble models mentioned above, we will first tune the hyperparameters (optimized for roc_auc score) then use the best estimator to fit the model and calculate roc_auc score."
   ]
  },
  {
   "cell_type": "markdown",
   "metadata": {
    "id": "yHZA9q5tQZYw"
   },
   "source": [
    "#### Random Forest\n"
   ]
  },
  {
   "cell_type": "markdown",
   "metadata": {
    "id": "BX22aEKwBX2J"
   },
   "source": [
    "##### ***No hyperparam tuning***"
   ]
  },
  {
   "cell_type": "code",
   "execution_count": 157,
   "metadata": {
    "colab": {
     "base_uri": "https://localhost:8080/"
    },
    "id": "shkjB18TBk7H",
    "outputId": "302ac7c1-f6cf-4000-ef24-37ec225739aa"
   },
   "outputs": [
    {
     "name": "stdout",
     "output_type": "stream",
     "text": [
      "rf_clf RandomForest f1 score = 0.4717710750193349\n",
      "rf_clf RandomForest roc_auc score = 0.7707986704420369\n"
     ]
    }
   ],
   "source": [
    "rf_clf = RandomForestClassifier(random_state=10086)\n",
    "rf_clf.fit(X_train_transformed,y_train)\n",
    "\n",
    "y_pred_rf_clf = rf_clf.predict(X_test_transformed)\n",
    "y_pred_rf_clf_prob = rf_clf.predict_proba(X_test_transformed)\n",
    "print(f'rf_clf RandomForest f1 score = {f1_score(y_test,y_pred_rf_clf)}')\n",
    "print(f'rf_clf RandomForest roc_auc score = {roc_auc_score(y_test,y_pred_rf_clf_prob[:,1])}')"
   ]
  },
  {
   "cell_type": "markdown",
   "metadata": {
    "id": "UyEVW_R1Bi-I"
   },
   "source": [
    "##### ***Hyperparam tuning***"
   ]
  },
  {
   "cell_type": "code",
   "execution_count": 23,
   "metadata": {
    "colab": {
     "base_uri": "https://localhost:8080/"
    },
    "id": "VCRw-zuBQWi-",
    "outputId": "fa532fac-a88d-4840-ce4a-c2673fc29899"
   },
   "outputs": [
    {
     "name": "stdout",
     "output_type": "stream",
     "text": [
      "Fitting 5 folds for each of 20 candidates, totalling 100 fits\n",
      "TIme elapsed: 16.82 minutes\n"
     ]
    }
   ],
   "source": [
    "time0=time()\n",
    "param_rf = {'n_estimators':randint(200,500),\n",
    "            'max_depth':randint(5,30),\n",
    "            'max_features':randint(5,X.shape[1]+1)\n",
    "            'criterion':['gini','entropy'],\n",
    "            'min_samples_split':randint(5,100)}\n",
    "rf_rscv = RandomizedSearchCV(RandomForestClassifier(random_state=10086),\n",
    "                             param_distributions=param_rf,\n",
    "                             n_iter=20,\n",
    "                             scoring='roc_auc',\n",
    "                             verbose=1,\n",
    "                             cv=5,\n",
    "                             n_jobs=-1,\n",
    "                             random_state=10086)\n",
    "rf_rscv.fit(X_train_transformed, y_train)\n",
    "print(f'TIme elapsed: {round((time()-time0)/60,2)} minutes')"
   ]
  },
  {
   "cell_type": "code",
   "execution_count": 25,
   "metadata": {
    "colab": {
     "base_uri": "https://localhost:8080/"
    },
    "id": "coRJRfxbMf1T",
    "outputId": "e30ddd5e-3e69-4baf-eb47-d25e275cf65d"
   },
   "outputs": [
    {
     "data": {
      "text/plain": [
       "['drive/My Drive/DS4-ML/Assignment 4 rf_rscv randomizedsearchcv randomforest.joblib']"
      ]
     },
     "execution_count": 25,
     "metadata": {},
     "output_type": "execute_result"
    }
   ],
   "source": [
    "# Save the model\n",
    "# joblib.dump(rf_rscv,r'drive/My Drive/DS4-ML/Assignment 4 rf_rscv randomizedsearchcv randomforest.joblib')\n",
    "# rf_rscv = joblib.load(r'drive/My Drive/DS4-ML/Assignment 4 rf_rscv randomizedsearchcv randomforest.joblib')"
   ]
  },
  {
   "cell_type": "code",
   "execution_count": 50,
   "metadata": {
    "colab": {
     "base_uri": "https://localhost:8080/"
    },
    "id": "tHjEdCrEIaNk",
    "outputId": "1d3d6181-0d50-41f9-9a69-57e49c75179f"
   },
   "outputs": [
    {
     "data": {
      "text/plain": [
       "RandomForestClassifier(criterion='entropy', max_depth=20, max_features=10,\n",
       "                       min_samples_split=25, n_estimators=350,\n",
       "                       random_state=10086)"
      ]
     },
     "execution_count": 50,
     "metadata": {},
     "output_type": "execute_result"
    }
   ],
   "source": [
    "rf_rscv.best_estimator_"
   ]
  },
  {
   "cell_type": "code",
   "execution_count": 51,
   "metadata": {
    "colab": {
     "base_uri": "https://localhost:8080/"
    },
    "id": "vGtOfvcLIkoE",
    "outputId": "fbea2893-7d8b-45a5-ad52-cc99f0c35cc1"
   },
   "outputs": [
    {
     "name": "stdout",
     "output_type": "stream",
     "text": [
      "rf_rscv RandomForest f1 score = 0.47328848436881676\n",
      "rf_rscv RandomForest roc_auc score = 0.7878776080598525\n"
     ]
    }
   ],
   "source": [
    "y_pred_rf = rf_rscv.best_estimator_.predict(X_test_transformed)\n",
    "y_pred_rf_prob = rf_rscv.best_estimator_.predict_proba(X_test_transformed)\n",
    "print(f'rf_rscv RandomForest f1 score = {f1_score(y_test,y_pred_rf)}')\n",
    "print(f'rf_rscv RandomForest roc_auc score = {roc_auc_score(y_test,y_pred_rf_prob[:,1])}')"
   ]
  },
  {
   "cell_type": "markdown",
   "metadata": {
    "id": "vgukqJ5ROTbW"
   },
   "source": [
    "The f1_score is not improved by random forest with the prarameter grid used in randomized search cross validation. <br>\n",
    "\n",
    "The roc_auc score (0.79) is higher than DecisionTree with tuned hyparameters, 0.77."
   ]
  },
  {
   "cell_type": "markdown",
   "metadata": {
    "id": "V12QmiADQUa0"
   },
   "source": [
    "#### AdaBoost\n",
    "We will first tune the hyperparameters then use the best estimator to fit the model and calculate roc_auc score."
   ]
  },
  {
   "cell_type": "markdown",
   "metadata": {
    "id": "yAnJ28eYA9ho"
   },
   "source": [
    "##### ***No hyperparam tuning***"
   ]
  },
  {
   "cell_type": "code",
   "execution_count": 52,
   "metadata": {
    "colab": {
     "base_uri": "https://localhost:8080/"
    },
    "id": "gCQxO5kdQbRZ",
    "outputId": "fefaf81c-cd2e-421f-f135-7b45e16da544"
   },
   "outputs": [
    {
     "name": "stdout",
     "output_type": "stream",
     "text": [
      "Time elapsed: 16.41 seconds\n"
     ]
    }
   ],
   "source": [
    "# No CV search\n",
    "time0 = time()\n",
    "ada_clf = AdaBoostClassifier(base_estimator=DecisionTreeClassifier(max_depth=1),\n",
    "                             n_estimators=250, learning_rate=0.5,\n",
    "                             random_state=10086)\n",
    "ada_clf.fit(X_train_transformed, y_train)\n",
    "print(f'Time elapsed: {round(time()-time0,2)} seconds')"
   ]
  },
  {
   "cell_type": "code",
   "execution_count": 53,
   "metadata": {
    "colab": {
     "base_uri": "https://localhost:8080/"
    },
    "id": "fyfzCCcGeULD",
    "outputId": "cf277dd5-d6e1-4013-a076-cb8b8b4a7119"
   },
   "outputs": [
    {
     "name": "stdout",
     "output_type": "stream",
     "text": [
      "ada_clf AdaBoost f1 score = 0.4581320450885668\n",
      "ada_clf  AdaBoost roc_auc score = 0.7796592020073946\n"
     ]
    }
   ],
   "source": [
    "y_pred_ada_clf = ada_clf.predict(X_test_transformed)\n",
    "y_pred_ada_clf_prob = ada_clf.predict_proba(X_test_transformed)\n",
    "print(f'ada_clf AdaBoost f1 score = {f1_score(y_test,y_pred_ada_clf)}')\n",
    "print(f'ada_clf  AdaBoost roc_auc score = {roc_auc_score(y_test, y_pred_ada_clf_prob[:,1])}')"
   ]
  },
  {
   "cell_type": "markdown",
   "metadata": {
    "id": "bgIBYX58BG8g"
   },
   "source": [
    "##### ***Hyperparam tuning***"
   ]
  },
  {
   "cell_type": "code",
   "execution_count": 247,
   "metadata": {
    "colab": {
     "base_uri": "https://localhost:8080/"
    },
    "id": "Eg6tgRfCnbKv",
    "outputId": "7e98da2c-771f-43d9-e6f5-b525112161a7"
   },
   "outputs": [
    {
     "name": "stdout",
     "output_type": "stream",
     "text": [
      "Time elapsed: 1624.63 seconds\n"
     ]
    }
   ],
   "source": [
    "# With RandomizedSearchCV\n",
    "time0 = time()\n",
    "param_ada = {'n_estimators':randint(200,500),\n",
    "             'learning_rate':loguniform(0.01,2.0)}\n",
    "ada_rscv = RandomizedSearchCV(AdaBoostClassifier(),\n",
    "                              param_distributions=param_ada,\n",
    "                              n_iter=20,\n",
    "                              scoring='roc_auc',\n",
    "                              cv=5,\n",
    "                              n_jobs=-1,\n",
    "                              random_state=10086)\n",
    "ada_rscv.fit(X_train_transformed, y_train)\n",
    "print(f'Time elapsed: {round((time()-time0)/60,2)} seconds')"
   ]
  },
  {
   "cell_type": "code",
   "execution_count": 27,
   "metadata": {
    "id": "HnKLBKK_xwm_"
   },
   "outputs": [],
   "source": [
    "# Save the model\n",
    "# joblib.dump(ada_rscv,r'drive/My Drive/DS4-ML/Assignment 4 ada_rscv randomizedsearchcv AdaBoost.joblib')\n",
    "# ada_rscv = joblib.load(r'drive/My Drive/DS4-ML/Assignment 4 ada_rscv randomizedsearchcv AdaBoost.joblib')"
   ]
  },
  {
   "cell_type": "code",
   "execution_count": 54,
   "metadata": {
    "colab": {
     "base_uri": "https://localhost:8080/"
    },
    "id": "scr708bkpt4C",
    "outputId": "45309758-528f-46e5-9e47-a1b3416d2db2"
   },
   "outputs": [
    {
     "data": {
      "text/plain": [
       "AdaBoostClassifier(learning_rate=0.1, n_estimators=400)"
      ]
     },
     "execution_count": 54,
     "metadata": {},
     "output_type": "execute_result"
    }
   ],
   "source": [
    "ada_rscv.best_estimator_"
   ]
  },
  {
   "cell_type": "code",
   "execution_count": 56,
   "metadata": {
    "colab": {
     "base_uri": "https://localhost:8080/"
    },
    "id": "e8SRcileprVh",
    "outputId": "fc7b09c4-5e6a-488b-d107-e4f57fa50189"
   },
   "outputs": [
    {
     "name": "stdout",
     "output_type": "stream",
     "text": [
      "ada_rscv AdaBoost f1 score = 0.4380952380952381\n",
      "ada_rscv AdaBoost roc_auc score = 0.7840302610419807\n"
     ]
    }
   ],
   "source": [
    "y_pred_ada = ada_rscv.best_estimator_.predict(X_test_transformed)\n",
    "y_pred_ada_prob = ada_rscv.best_estimator_.predict_proba(X_test_transformed)\n",
    "print(f'ada_rscv AdaBoost f1 score = {f1_score(y_test,y_pred_ada)}')\n",
    "print(f'ada_rscv AdaBoost roc_auc score = {roc_auc_score(y_test, y_pred_ada_prob[:,1])}')"
   ]
  },
  {
   "cell_type": "markdown",
   "metadata": {
    "id": "nLqyJuMoew_r"
   },
   "source": [
    "AdaBoost has a lower F1 score and comparable roc_auc score than the RandomForest model."
   ]
  },
  {
   "cell_type": "markdown",
   "metadata": {
    "id": "aivJ6U8MfPKl"
   },
   "source": [
    "#### Extra Tree"
   ]
  },
  {
   "cell_type": "markdown",
   "metadata": {
    "id": "2fOFJWVXDYvy"
   },
   "source": [
    "##### ***No hyperparam tuning***"
   ]
  },
  {
   "cell_type": "code",
   "execution_count": 269,
   "metadata": {
    "colab": {
     "base_uri": "https://localhost:8080/"
    },
    "id": "0FC1NkOGDYwA",
    "outputId": "50690e1e-e3c9-4229-d9f2-822477751586"
   },
   "outputs": [
    {
     "name": "stdout",
     "output_type": "stream",
     "text": [
      "Time elapsed: 9.55 seconds\n"
     ]
    }
   ],
   "source": [
    "# No CV search\n",
    "time0 = time()\n",
    "xtr_clf = ExtraTreesClassifier(n_estimators=250, criterion='entropy',max_depth=20,\n",
    "                             random_state=10086)\n",
    "xtr_clf.fit(X_train_transformed, y_train)\n",
    "print(f'Time elapsed: {round(time()-time0,2)} seconds')"
   ]
  },
  {
   "cell_type": "code",
   "execution_count": 271,
   "metadata": {
    "colab": {
     "base_uri": "https://localhost:8080/"
    },
    "id": "s6XzdNw5DYwB",
    "outputId": "60b2a691-0d23-48a7-aa98-60ed834da8cb"
   },
   "outputs": [
    {
     "name": "stdout",
     "output_type": "stream",
     "text": [
      "xtr_clf AdaBoost f1 score = 0.47026816945200156\n",
      "xtr_clf AdaBoost roc_auc score = 0.7716162329828682\n"
     ]
    }
   ],
   "source": [
    "y_pred_xtr_clf = xtr_clf.predict(X_test_transformed)\n",
    "y_pred_xtr_clf_prob = xtr_clf.predict_proba(X_test_transformed)\n",
    "print(f'xtr_clf AdaBoost f1 score = {f1_score(y_test,y_pred_xtr_clf)}')\n",
    "print(f'xtr_clf AdaBoost roc_auc score = {roc_auc_score(y_test, y_pred_xtr_clf_prob[:,1])}')"
   ]
  },
  {
   "cell_type": "markdown",
   "metadata": {
    "id": "Xj5LZr7QDYwB"
   },
   "source": [
    "##### ***Hyperparam tuning***"
   ]
  },
  {
   "cell_type": "code",
   "execution_count": 28,
   "metadata": {
    "colab": {
     "base_uri": "https://localhost:8080/"
    },
    "id": "K2Ursn9KDYwB",
    "outputId": "16dcfe15-0182-4a33-9461-7481156169a6"
   },
   "outputs": [
    {
     "name": "stdout",
     "output_type": "stream",
     "text": [
      "Time elapsed: 8.89 minutes\n"
     ]
    }
   ],
   "source": [
    "# With RandomizedSearchCV\n",
    "time0 = time()\n",
    "param_xtr ={'n_estimators':randint(200,500),\n",
    "            'max_depth':randint(5,30),\n",
    "            'max_features':randint(5,X.shape[1]+1)\n",
    "            'criterion':['gini','entropy'],\n",
    "            'min_samples_split':randint(5,100)}\n",
    "\n",
    "xtr_rscv = RandomizedSearchCV(ExtraTreesClassifier(),\n",
    "                              param_distributions=param_xtr,\n",
    "                              n_iter=20,\n",
    "                              scoring='roc_auc',\n",
    "                              cv=5,\n",
    "                              n_jobs=-1,\n",
    "                              random_state=10086)\n",
    "xtr_rscv.fit(X_train_transformed, y_train)\n",
    "print(f'Time elapsed: {round((time()-time0)/60,2)} minutes')"
   ]
  },
  {
   "cell_type": "code",
   "execution_count": 30,
   "metadata": {
    "colab": {
     "base_uri": "https://localhost:8080/"
    },
    "id": "g5XUT2-uDYwC",
    "outputId": "19da4df2-cb53-47b5-d603-7516ea6939f0"
   },
   "outputs": [
    {
     "data": {
      "text/plain": [
       "['drive/My Drive/DS4-ML/Assignment 4 xtr_rscv randomizedsearchcv ExtraTree.joblib']"
      ]
     },
     "execution_count": 30,
     "metadata": {},
     "output_type": "execute_result"
    }
   ],
   "source": [
    "# Save the model\n",
    "# joblib.dump(xtr_rscv,r'drive/My Drive/DS4-ML/Assignment 4 xtr_rscv randomizedsearchcv ExtraTree.joblib')\n",
    "# xtr_rscv = joblib.load(r'drive/My Drive/DS4-ML/Assignment 4 xtr_rscv randomizedsearchcv ExtraTree.joblib')"
   ]
  },
  {
   "cell_type": "code",
   "execution_count": 57,
   "metadata": {
    "colab": {
     "base_uri": "https://localhost:8080/"
    },
    "id": "VpUQ4wPSDYwC",
    "outputId": "1cf12cab-8de8-410d-a5e3-b68400590135"
   },
   "outputs": [
    {
     "data": {
      "text/plain": [
       "ExtraTreesClassifier(max_depth=20, max_features=20, min_samples_split=85,\n",
       "                     n_estimators=200)"
      ]
     },
     "execution_count": 57,
     "metadata": {},
     "output_type": "execute_result"
    }
   ],
   "source": [
    "xtr_rscv.best_estimator_"
   ]
  },
  {
   "cell_type": "code",
   "execution_count": 58,
   "metadata": {
    "colab": {
     "base_uri": "https://localhost:8080/"
    },
    "id": "3WaZSiEVDYwC",
    "outputId": "823a42b7-33d8-4fe2-d3c5-9f63eea3c5fe"
   },
   "outputs": [
    {
     "name": "stdout",
     "output_type": "stream",
     "text": [
      "xtr_rscv ExtraTree f1 score = 0.47667984189723317\n",
      "xtr_rscv ExtraTree roc_auc score = 0.7806037549657776\n"
     ]
    }
   ],
   "source": [
    "y_pred_xtr = xtr_rscv.best_estimator_.predict(X_test_transformed)\n",
    "y_pred_xtr_prob = xtr_rscv.best_estimator_.predict_proba(X_test_transformed)\n",
    "print(f'xtr_rscv ExtraTree f1 score = {f1_score(y_test,y_pred_xtr)}')\n",
    "print(f'xtr_rscv ExtraTree roc_auc score = {roc_auc_score(y_test, y_pred_xtr_prob[:,1])}')"
   ]
  },
  {
   "cell_type": "markdown",
   "metadata": {
    "id": "5aKp9tPqDYwD"
   },
   "source": [
    "ExtraTreeClassifier has a similar F1 score and roc_auc score to the RandomForest and AdaBoost models."
   ]
  },
  {
   "cell_type": "markdown",
   "metadata": {
    "id": "kP36HAS7QJku"
   },
   "source": [
    "#### Gradient Boosting"
   ]
  },
  {
   "cell_type": "markdown",
   "metadata": {
    "id": "J9KNYG1FQoW9"
   },
   "source": [
    "##### ***No hyperparam tuning***"
   ]
  },
  {
   "cell_type": "code",
   "execution_count": 61,
   "metadata": {
    "colab": {
     "base_uri": "https://localhost:8080/"
    },
    "id": "eEEe6hojQoW-",
    "outputId": "f970e25f-19d2-47c3-f36c-9b63989359c2"
   },
   "outputs": [
    {
     "name": "stdout",
     "output_type": "stream",
     "text": [
      "Time elapsed: 14.74 seconds\n"
     ]
    }
   ],
   "source": [
    "# No CV search\n",
    "time0 = time()\n",
    "gbc_clf = GradientBoostingClassifier(random_state=10086)\n",
    "gbc_clf.fit(X_train_transformed, y_train)\n",
    "print(f'Time elapsed: {round(time()-time0,2)} seconds')"
   ]
  },
  {
   "cell_type": "code",
   "execution_count": 62,
   "metadata": {
    "colab": {
     "base_uri": "https://localhost:8080/"
    },
    "id": "Xy3sxypyQoW_",
    "outputId": "41369af8-ab2b-46d9-e488-989ad3c277a7"
   },
   "outputs": [
    {
     "name": "stdout",
     "output_type": "stream",
     "text": [
      "gbc_clf GradientBoost f1 score = 0.4725838264299803\n",
      "gbc_clf GradientBoost roc_auc score = 0.7863605326049845\n"
     ]
    }
   ],
   "source": [
    "y_pred_gbc_clf = gbc_clf.predict(X_test_transformed)\n",
    "y_pred_gbc_clf_prob = gbc_clf.predict_proba(X_test_transformed)\n",
    "print(f'gbc_clf GradientBoost f1 score = {f1_score(y_test,y_pred_gbc_clf)}')\n",
    "print(f'gbc_clf GradientBoost roc_auc score = {roc_auc_score(y_test, y_pred_gbc_clf_prob[:,1])}')"
   ]
  },
  {
   "cell_type": "markdown",
   "metadata": {
    "id": "4_U05J6fQoXA"
   },
   "source": [
    "##### ***Hyperparam tuning***"
   ]
  },
  {
   "cell_type": "code",
   "execution_count": 291,
   "metadata": {
    "colab": {
     "base_uri": "https://localhost:8080/"
    },
    "id": "Nrbn-UCJQoXA",
    "outputId": "c7e66e28-7af2-4a84-99cd-6705ab32ca40"
   },
   "outputs": [
    {
     "name": "stdout",
     "output_type": "stream",
     "text": [
      "Time elapsed: 899.51 seconds\n"
     ]
    }
   ],
   "source": [
    "# With RandomizedSearchCV\n",
    "time0 = time()\n",
    "param_gbc = {'n_estimators':randint(200,500),\n",
    "             'learning_rate':loguniform(0.01,2),\n",
    "             'max_depth':randint(5,30),\n",
    "             'max_features':randint(5,X.shape[1]+1)\n",
    "             'min_samples_split':randint(5,100)}\n",
    "\n",
    "gbc_rscv = RandomizedSearchCV(GradientBoostingClassifier(),\n",
    "                              param_distributions=param_gbc,\n",
    "                              n_iter=20,\n",
    "                              scoring='roc_auc',\n",
    "                              cv=5,\n",
    "                              n_jobs=-1,\n",
    "                              verbose=0,\n",
    "                              random_state=10086)\n",
    "gbc_rscv.fit(X_train_transformed, y_train)\n",
    "print(f'Time elapsed: {round((time()-time0/60),2)} seconds')"
   ]
  },
  {
   "cell_type": "code",
   "execution_count": 32,
   "metadata": {
    "id": "rJ1q-nSBQoXB"
   },
   "outputs": [],
   "source": [
    "# Save the model\n",
    "# joblib.dump(gbc_rscv,r'drive/My Drive/DS4-ML/Assignment 4 gbc_rscv randomizedsearchcv GradientBoost.joblib')\n",
    "# gbc_rscv = joblib.load(r'drive/My Drive/DS4-ML/Assignment 4 gbc_rscv randomizedsearchcv GradientBoost.joblib')"
   ]
  },
  {
   "cell_type": "code",
   "execution_count": 59,
   "metadata": {
    "colab": {
     "base_uri": "https://localhost:8080/"
    },
    "id": "SGoOaI4dQoXC",
    "outputId": "9fd9dc1b-39d9-4dec-dc30-5495b15f3b5d"
   },
   "outputs": [
    {
     "data": {
      "text/plain": [
       "GradientBoostingClassifier(learning_rate=0.01, max_depth=10, max_features=20,\n",
       "                           min_samples_split=85)"
      ]
     },
     "execution_count": 59,
     "metadata": {},
     "output_type": "execute_result"
    }
   ],
   "source": [
    "gbc_rscv.best_estimator_"
   ]
  },
  {
   "cell_type": "code",
   "execution_count": 64,
   "metadata": {
    "colab": {
     "base_uri": "https://localhost:8080/"
    },
    "id": "9ABGkrP8QoXC",
    "outputId": "1f6203d8-1af2-41a4-86a8-52f895dade4f"
   },
   "outputs": [
    {
     "name": "stdout",
     "output_type": "stream",
     "text": [
      "gbc_rscv GradientBoost f1 score = 0.3507951356407858\n",
      "gbc_rscv GradientBoost roc_auc score = 0.787303162253728\n"
     ]
    }
   ],
   "source": [
    "y_pred_gbc = gbc_rscv.best_estimator_.predict(X_test_transformed)\n",
    "y_pred_gbc_prob = gbc_rscv.best_estimator_.predict_proba(X_test_transformed)\n",
    "print(f'gbc_rscv GradientBoost f1 score = {f1_score(y_test,y_pred_gbc)}')\n",
    "print(f'gbc_rscv GradientBoost roc_auc score = {roc_auc_score(y_test, y_pred_gbc_prob[:,1])}')"
   ]
  },
  {
   "cell_type": "markdown",
   "metadata": {
    "id": "DksklvP8ysKW"
   },
   "source": [
    "F1 score is lower than other models, and roc_auc score is similar to other models."
   ]
  },
  {
   "cell_type": "markdown",
   "metadata": {
    "id": "qFEP1FkLLfvA"
   },
   "source": [
    "#### ROC_AUC curves comparison"
   ]
  },
  {
   "cell_type": "code",
   "execution_count": 65,
   "metadata": {
    "colab": {
     "base_uri": "https://localhost:8080/",
     "height": 404
    },
    "id": "CXKTc2NWLmTz",
    "outputId": "9c9a5c47-638c-4be2-d07e-508f3605444a"
   },
   "outputs": [
    {
     "data": {
      "image/png": "[encoded data removed]",
      "text/plain": [
       "<Figure size 576x432 with 1 Axes>"
      ]
     },
     "metadata": {
      "needs_background": "light"
     },
     "output_type": "display_data"
    }
   ],
   "source": [
    "from sklearn.metrics import RocCurveDisplay\n",
    "\n",
    "fig = plt.figure(figsize=(8,6))\n",
    "ax = fig.add_subplot(1,1,1)\n",
    "RocCurveDisplay.from_estimator(dt_rscv, X_test_transformed, y_test, ax=ax);\n",
    "RocCurveDisplay.from_estimator(rf_rscv, X_test_transformed, y_test, ax=ax);\n",
    "RocCurveDisplay.from_estimator(ada_rscv, X_test_transformed, y_test, ax=ax);\n",
    "RocCurveDisplay.from_estimator(xtr_rscv, X_test_transformed, y_test, ax=ax);\n",
    "RocCurveDisplay.from_estimator(gbc_rscv, X_test_transformed, y_test, ax=ax);\n",
    "plt.legend(['DecisionTree  (AUC={})'.format(round(roc_auc_score(y_test, y_pred_dt_prob[:,1]),2)),\n",
    "            'Random Forest (AUC={})'.format(round(roc_auc_score(y_test, y_pred_rf_prob[:,1]),2)),\n",
    "            'Ada Boosting (AUC={})'.format(round(roc_auc_score(y_test, y_pred_ada_prob[:,1]),2)),\n",
    "            'Extra Tree (AUC={})'.format(round(roc_auc_score(y_test, y_pred_xtr_prob[:,1]),2)),\n",
    "            'Gradient Boosting (AUC={})'.format(round(roc_auc_score(y_test, y_pred_gbc_prob[:,1]),2))], \n",
    "           loc='lower right')\n",
    "plt.title('ROC curve')\n",
    "plt.ylim(0,1);"
   ]
  },
  {
   "cell_type": "markdown",
   "metadata": {
    "id": "eVSYIpjMPKHY"
   },
   "source": [
    "ROC curve shows that all ensemble methods have a similar performance in terms of ROC curve. They all perform better than hyperparameter tuned DecisionTree model."
   ]
  },
  {
   "cell_type": "markdown",
   "metadata": {
    "id": "jUX6gmDOLEiq"
   },
   "source": [
    "#### Learning curves"
   ]
  },
  {
   "cell_type": "code",
   "execution_count": 42,
   "metadata": {
    "id": "jYj6vGetQW5L"
   },
   "outputs": [],
   "source": [
    "# download from GitHub repository\n",
    "import requests\n",
    "\n",
    "# Get the \"Raw\" version of the code from GitHub\n",
    "url = 'https://raw.githubusercontent.com/TessieTong/ds4ml/main/plot_learning_curve.py'\n",
    "r = requests.get(url)\n",
    "\n",
    "# Write to Colab working directory \n",
    "with open('plot_learning_curve.py', 'w') as f:\n",
    "    f.write(r.text)\n",
    "\n",
    "# import\n",
    "from plot_learning_curve import plot_learning_curve"
   ]
  },
  {
   "cell_type": "code",
   "execution_count": 77,
   "metadata": {
    "colab": {
     "base_uri": "https://localhost:8080/",
     "height": 1000
    },
    "id": "oFO5jynZwANV",
    "outputId": "bae97d3d-0ac2-4e79-d225-cad3ee389551"
   },
   "outputs": [
    {
     "data": {
      "image/png": "[encoded data removed]",
      "text/plain": [
       "<Figure size 1440x1080 with 12 Axes>"
      ]
     },
     "metadata": {
      "needs_background": "light"
     },
     "output_type": "display_data"
    }
   ],
   "source": [
    "# Plot learning curves of the 4 best ensemble classifiers\n",
    "from sklearn.model_selection import learning_curve\n",
    "from sklearn.model_selection import ShuffleSplit\n",
    "\n",
    "fig, axes = plt.subplots(3, 4, figsize=(20, 15))\n",
    "# Cross validation with 10 iterations\n",
    "# score curves, each time with 20% data randomly selected as a validation set.\n",
    "# Here only the training set is used.\n",
    "cv = ShuffleSplit(n_splits=10, test_size=0.2, random_state=10086)\n",
    "\n",
    "title = r\"Learning Curves (RandomForest)\"\n",
    "plot_learning_curve(rf_rscv.best_estimator_,\n",
    "    title, X_train_transformed, y_train, \n",
    "    axes=axes[:, 0], ylim=(0.7, 1.01), cv=cv, n_jobs=-1)\n",
    "\n",
    "title = r\"Learning Curves (AdaBoost)\"\n",
    "plot_learning_curve(ada_rscv.best_estimator_,\n",
    "    title, X_train_transformed, y_train, \n",
    "    axes=axes[:, 1], ylim=(0.7, 1.01), cv=cv, n_jobs=-1)\n",
    "\n",
    "title = r\"Learning Curves (ExtraTree)\"\n",
    "plot_learning_curve(xtr_rscv.best_estimator_,\n",
    "    title, X_train_transformed, y_train, \n",
    "    axes=axes[:, 2], ylim=(0.7, 1.01), cv=cv, n_jobs=-1)\n",
    "\n",
    "title = r\"Learning Curves (GradientBoosting)\"\n",
    "plot_learning_curve(gbc_rscv.best_estimator_,\n",
    "    title, X_train_transformed, y_train, \n",
    "    axes=axes[:, 3], ylim=(0.7, 1.01), cv=cv, n_jobs=-1)\n",
    "\n",
    "plt.tight_layout(pad=3.0)\n",
    "plt.show();"
   ]
  },
  {
   "cell_type": "markdown",
   "metadata": {
    "id": "qwyr2ulhPrg8"
   },
   "source": [
    "## Discussions"
   ]
  },
  {
   "cell_type": "markdown",
   "metadata": {
    "id": "XzriUB7BGirG"
   },
   "source": [
    "1. **Changing hyperparameters affects model performance**. As demoned in Q1, 4 combinations of hyperparam were considered to train a decision tree. The results, i.e., performance metrics, including confusion matrix, precision, recall, f1 score and roc_auc score, were all somehow different to different degrees, with some more comparable than others.  <br>\n",
    "Hyparameters tuned with randomizedSearchCV method do not always produce the best solution but a good enough soution. For example, tuned hyperparams for DecisionTree from Q2 has a higher roc_auc score than the ones from Q1. Since the tuning is to maxmize the roc_auc score, it's expected that F1 score may be not higher the those from Q1.<br>\n",
    "If roc_auc is the sole metrics to evaluate the models, from the above analyses, all 4 ensemble methods had an equal performance."
   ]
  },
  {
   "cell_type": "markdown",
   "metadata": {
    "id": "2KIBd82I9APt"
   },
   "source": [
    "2. **While all 4 ensemble methods had the same performance in terms of roc_auc score, they did not perform eaqually well in terms of learning curve**. As shown in the ***Learning Curves*** section of Q3, *Random Forest* appeared slightly overfitting consistently, so as *Gradient Boosting* but to a lesser degree. *AdaBoost* had almost the same predictions on both train and test sets, except at the lowest numbers of the train examples. In addition, it appears the ***AdaBoost*** also has the highest model scalability (fit-times increase more sharply with increasing number of training examples). ***ExtraTree*** has the best model performance (achieves highest score with lowest fit-times).<br>\n",
    "\n",
    "    - It is worth noting that the difference in performance are very small among all these 4 models. And it appearred that 6,000 examples can achieve the highest score for all models."
   ]
  },
  {
   "cell_type": "markdown",
   "metadata": {
    "id": "vEcPiuUBSJZh"
   },
   "source": [
    "3. **The performace of the models as shown in the learning curves is in line with the known strength and weakness of the models**. <br>\n",
    "\n",
    "    - For example, DecisionTree tends to very easily ovefit. Ensemble methods based on it are prone to overfitting. Although it has mechanisms to limit overfitting, such as randomly selecting a subset of features at each step to decrease the variance, RandomForest is still very easily overfit. On the other hand, ExtraTree take the randomization to an extreme level, further decrease the variance and avoid overfitting. <br>\n",
    "\n",
    "    - Boosting algarithms learn sequentially, usually slow and cannot take advantage of parallel computing. Adaboost is not prone to overfitting, as the learning curve has shown. It also requires quality data, and extremely sensitive to noise and outliers. <br>\n",
    "\n",
    "    - Gradient boosting fits on the remaining error of previous predictor and also learns sequentially. It is flexible and no need of data preprocessing (even handling missing values). As it continue improving to minimize all errors by randomly selecting a subset of feature at each ietration, it can overemphasize outliers and cause overfitting. As shown in the learning curve, it has the second largest gaps in model score between training and cross-validation, which suggests overfitting.\n"
   ]
  },
  {
   "cell_type": "markdown",
   "metadata": {
    "id": "pTcNVZKv9t0R"
   },
   "source": [
    "# **-- END --**"
   ]
  }
 ],
 "metadata": {
  "colab": {
   "collapsed_sections": [],
   "name": "assignment4.ipynb",
   "provenance": [],
   "toc_visible": true
  },
  "kernelspec": {
   "display_name": "Python 3",
   "language": "python",
   "name": "python3"
  },
  "language_info": {
   "codemirror_mode": {
    "name": "ipython",
    "version": 3
   },
   "file_extension": ".py",
   "mimetype": "text/x-python",
   "name": "python",
   "nbconvert_exporter": "python",
   "pygments_lexer": "ipython3",
   "version": "3.8.5"
  }
 },
 "nbformat": 4,
 "nbformat_minor": 4
}
